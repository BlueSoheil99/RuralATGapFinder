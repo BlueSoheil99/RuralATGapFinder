{
 "cells": [
  {
   "cell_type": "code",
   "execution_count": 368,
   "id": "initial_id",
   "metadata": {
    "ExecuteTime": {
     "end_time": "2025-09-05T19:41:56.805081200Z",
     "start_time": "2025-09-05T19:41:56.082386300Z"
    }
   },
   "outputs": [],
   "source": [
    "import json\n",
    "import os\n",
    "\n",
    "import folium\n",
    "import geopandas as gpd\n",
    "import numpy as np\n",
    "import matplotlib.pyplot as plt\n",
    "import pandas as pd\n",
    "import pygris\n",
    "from shapely.geometry import Polygon, MultiPolygon, GeometryCollection\n",
    "from shapely.ops import unary_union\n",
    "from shapely.validation import make_valid\n",
    "\n",
    "\n",
    "# so geopandas plots look nice\n",
    "%matplotlib inline"
   ]
  },
  {
   "cell_type": "code",
   "execution_count": 369,
   "id": "a3c03c1b-6783-4808-b8d2-f363efeb8b03",
   "metadata": {},
   "outputs": [],
   "source": [
    "state_in = 'WA'\n",
    "state_FIPS = '53'\n",
    "counties_in = [ \"King\", \"Pierce\", \"Snohomish\", \"Kitsap\", \"Skagit\",\n",
    "             \"Island\", \"Thurston\", \"Lewis\", \"Mason\", \"Whatcom\", \n",
    "             \"San Juan\", \"Clallam\", \"Jefferson\", \"Grays Harbor\",\n",
    "             \"Pacific\", \"Wahkiakum\", \"Cowlitz\", \"Clark\", \"Skamania\"]\n",
    "# -------------\n",
    "sld_gdb_path = r\"C:/Users/Soheil99/OneDrive - UW/0 Research/UW Tacoma/my copy - Satellite Communities Project/Data/SmartLocationDatabase.gdb\"\n",
    "pop_ctr_path = r\"C:/Users/Soheil99/OneDrive - UW/0 Research/UW Tacoma/my copy - Satellite Communities Project/Data/WSDOT_-_Population_Centers/WSDOT_-_Population_Centers.shp\"\n",
    "nces_WA_path= r\"C:/Users/Soheil99/OneDrive - UW/0 Research/UW Tacoma/my copy - Satellite Communities Project/Data/edge_locale24_nces_WA\"\n",
    "POI_path = r\"C:/Users/Soheil99/OneDrive - UW/0 Research/UW Tacoma/my copy - Satellite Communities Project/Data/POI Data/WA_Study_Area.geojson\"\n",
    "POI_SR_path = r\"C:/Users/Soheil99/OneDrive - UW/0 Research/UW Tacoma/my copy - Satellite Communities Project/Data/POI Within 300 ft SR/POI_CBG_Right_Outside_PC_SR_Buffer.shp\"\n",
    "POI_CR_path = r\"C:/Users/Soheil99/OneDrive - UW/0 Research/UW Tacoma/my copy - Satellite Communities Project/Data/POI Within 300 ft CR/POI_CBG_Right_Outside_PC_CR_Buffer.shp\"\n",
    "save_path = r\"C:\\Users\\Soheil99\\OneDrive - UW\\0 Research\\UW Tacoma\\my copy - Satellite Communities Project\\Analysis\\RuralATGapFinder\\data\""
   ]
  },
  {
   "cell_type": "code",
   "execution_count": null,
   "id": "071d081a-669f-4f31-a5f3-2c1f576fb2b9",
   "metadata": {},
   "outputs": [],
   "source": [
    "sld_selected_columns = ['GEOID10', 'CSA_Name', 'CBSA_Name', 'Ac_Land',\n",
    "                        'Ac_Unpr', 'Ac_Water', 'TotPop', 'CountHU',\n",
    "                        'HH', 'P_WrkAge', 'White', 'Male', 'Residents',\n",
    "                        'Drivers', 'Vehicles', 'GasPrice', 'Pct_AO0', \n",
    "                        'R_LowWageWk', 'R_MedWageWk', 'R_HiWageWk', 'R_PCTLOWWAGE',\n",
    "                        'E_LowWageWk', 'E_MedWageWk', 'E_HiWageWk', 'E_PctLowWage', \n",
    "                        'D3A', 'D3AAO', 'D3AMM', 'D3APO', 'D3B', 'D3BAO', 'D3BMM3',\n",
    "                        'D3BMM4', 'D3BPO3', 'D3BPO4', 'D4A', 'D4B025', 'D4B050',\n",
    "                        'D4C', 'D4D', 'D4E', 'D5AR', 'D5AE', 'D5BR', 'D5BE', 'geometry']"
   ]
  },
  {
   "cell_type": "code",
   "execution_count": null,
   "id": "69f1037a-77a1-460c-b7ca-3bec61fc81b3",
   "metadata": {},
   "outputs": [],
   "source": [
    "def save_geopackage(gdf, folder_path, filename, driver=None):\n",
    "    ## Saving the file\n",
    "    os.makedirs(folder_path, exist_ok=True)  # make sure folder exists\n",
    "    filepath = os.path.join(folder_path, filename)  # we use .gpkg instead of .shp in order to keep column names\n",
    "    # gdf.to_file(filepath, driver=\"GPKG\")\n",
    "    gdf.to_file(filepath, driver=driver)\n",
    "    "
   ]
  },
  {
   "cell_type": "code",
   "execution_count": null,
   "id": "34ea575d-f284-4cb7-9a18-2159586451f7",
   "metadata": {},
   "outputs": [],
   "source": [
    "def geomcollection_to_multipolygon(geom):\n",
    "    if isinstance(geom, Polygon):\n",
    "        return MultiPolygon([geom])          # convert single Polygon to MultiPolygon\n",
    "    elif isinstance(geom, MultiPolygon):\n",
    "        return geom                          # already fine\n",
    "    elif isinstance(geom, GeometryCollection):\n",
    "        # extract only Polygon/MultiPolygon parts\n",
    "        polygons = [g for g in geom.geoms if isinstance(g, (Polygon, MultiPolygon))]\n",
    "        if polygons:\n",
    "            return MultiPolygon([p for poly in polygons for p in (poly.geoms if isinstance(poly, MultiPolygon) else [poly])])\n",
    "        else:\n",
    "            return None                       # no polygons inside\n",
    "    else:\n",
    "        return None                            # other geometry types\n",
    "\n",
    "def polygon_to_multipolygon(gdf):\n",
    "# turn everything into MultiPolygon. \n",
    "    gdf[\"geometry\"] = gdf[\"geometry\"].apply(lambda geom: MultiPolygon([geom]) if isinstance(geom, Polygon) else geom)"
   ]
  },
  {
   "cell_type": "markdown",
   "id": "d57ac662-4fa7-4643-bee0-5f9da4f19ae4",
   "metadata": {},
   "source": [
    "## Define study area counties"
   ]
  },
  {
   "cell_type": "code",
   "execution_count": 371,
   "id": "ceff546cf1bc0878",
   "metadata": {
    "ExecuteTime": {
     "end_time": "2025-09-05T20:10:38.543631100Z",
     "start_time": "2025-09-05T20:10:13.869702500Z"
    },
    "collapsed": false,
    "jupyter": {
     "outputs_hidden": false
    },
    "scrolled": true
   },
   "outputs": [
    {
     "name": "stdout",
     "output_type": "stream",
     "text": [
      "HTTP download failed, trying FTP as fallback...\n",
      "Downloading cb_2023_us_county_500k.zip from Census FTP...\n"
     ]
    },
    {
     "ename": "FileNotFoundError",
     "evalue": "[Errno 2] No such file or directory: 'C:\\\\Users\\\\Soheil99\\\\anaconda3\\\\envs\\\\arcgispro-cloned\\\\Lib\\\\site-packages\\\\pygris\\\\internals\\\\fips_codes.csv'",
     "output_type": "error",
     "traceback": [
      "\u001b[1;31m---------------------------------------------------------------------------\u001b[0m",
      "\u001b[1;31mFileNotFoundError\u001b[0m                         Traceback (most recent call last)",
      "Cell \u001b[1;32mIn[371], line 2\u001b[0m\n\u001b[0;32m      1\u001b[0m \u001b[38;5;66;03m# Get TIGER/Line file for counties in a specific state\u001b[39;00m\n\u001b[1;32m----> 2\u001b[0m wa_counties \u001b[38;5;241m=\u001b[39m \u001b[43mpygris\u001b[49m\u001b[38;5;241;43m.\u001b[39;49m\u001b[43mcounties\u001b[49m\u001b[43m(\u001b[49m\u001b[43mstate\u001b[49m\u001b[43m \u001b[49m\u001b[38;5;241;43m=\u001b[39;49m\u001b[43m \u001b[49m\u001b[43mstate_in\u001b[49m\u001b[43m,\u001b[49m\u001b[43m \u001b[49m\u001b[43mcb\u001b[49m\u001b[38;5;241;43m=\u001b[39;49m\u001b[38;5;28;43;01mTrue\u001b[39;49;00m\u001b[43m,\u001b[49m\u001b[43m \u001b[49m\u001b[43myear\u001b[49m\u001b[38;5;241;43m=\u001b[39;49m\u001b[38;5;241;43m2023\u001b[39;49m\u001b[43m)\u001b[49m\n\u001b[0;32m      3\u001b[0m studyarea \u001b[38;5;241m=\u001b[39m wa_counties[wa_counties[\u001b[38;5;124m\"\u001b[39m\u001b[38;5;124mNAME\u001b[39m\u001b[38;5;124m\"\u001b[39m]\u001b[38;5;241m.\u001b[39misin(counties_in)]\n\u001b[0;32m      5\u001b[0m \u001b[38;5;66;03m# Plot study area\u001b[39;00m\n",
      "File \u001b[1;32m~\\anaconda3\\envs\\arcgispro-cloned\\Lib\\site-packages\\pygris\\enumeration_units.py:92\u001b[0m, in \u001b[0;36mcounties\u001b[1;34m(state, cb, resolution, year, cache, subset_by, protocol, timeout)\u001b[0m\n",
      "File \u001b[1;32m~\\anaconda3\\envs\\arcgispro-cloned\\Lib\\site-packages\\pygris\\enumeration_units.py:92\u001b[0m, in \u001b[0;36m<listcomp>\u001b[1;34m(.0)\u001b[0m\n",
      "File \u001b[1;32m~\\anaconda3\\envs\\arcgispro-cloned\\Lib\\site-packages\\pygris\\helpers.py:194\u001b[0m, in \u001b[0;36mvalidate_state\u001b[1;34m(state, quiet)\u001b[0m\n",
      "File \u001b[1;32m~\\anaconda3\\envs\\arcgispro-cloned\\Lib\\site-packages\\pygris\\helpers.py:176\u001b[0m, in \u001b[0;36mfips_codes\u001b[1;34m()\u001b[0m\n",
      "File \u001b[1;32m~\\anaconda3\\envs\\arcgispro-cloned\\Lib\\site-packages\\pandas\\io\\parsers\\readers.py:1026\u001b[0m, in \u001b[0;36mread_csv\u001b[1;34m(filepath_or_buffer, sep, delimiter, header, names, index_col, usecols, dtype, engine, converters, true_values, false_values, skipinitialspace, skiprows, skipfooter, nrows, na_values, keep_default_na, na_filter, verbose, skip_blank_lines, parse_dates, infer_datetime_format, keep_date_col, date_parser, date_format, dayfirst, cache_dates, iterator, chunksize, compression, thousands, decimal, lineterminator, quotechar, quoting, doublequote, escapechar, comment, encoding, encoding_errors, dialect, on_bad_lines, delim_whitespace, low_memory, memory_map, float_precision, storage_options, dtype_backend)\u001b[0m\n",
      "File \u001b[1;32m~\\anaconda3\\envs\\arcgispro-cloned\\Lib\\site-packages\\pandas\\io\\parsers\\readers.py:620\u001b[0m, in \u001b[0;36m_read\u001b[1;34m(filepath_or_buffer, kwds)\u001b[0m\n",
      "File \u001b[1;32m~\\anaconda3\\envs\\arcgispro-cloned\\Lib\\site-packages\\pandas\\io\\parsers\\readers.py:1620\u001b[0m, in \u001b[0;36m__init__\u001b[1;34m(self, f, engine, **kwds)\u001b[0m\n",
      "File \u001b[1;32m~\\anaconda3\\envs\\arcgispro-cloned\\Lib\\site-packages\\pandas\\io\\parsers\\readers.py:1880\u001b[0m, in \u001b[0;36m_make_engine\u001b[1;34m(self, f, engine)\u001b[0m\n",
      "File \u001b[1;32m~\\anaconda3\\envs\\arcgispro-cloned\\Lib\\site-packages\\pandas\\io\\common.py:873\u001b[0m, in \u001b[0;36mget_handle\u001b[1;34m(path_or_buf, mode, encoding, compression, memory_map, is_text, errors, storage_options)\u001b[0m\n",
      "\u001b[1;31mFileNotFoundError\u001b[0m: [Errno 2] No such file or directory: 'C:\\\\Users\\\\Soheil99\\\\anaconda3\\\\envs\\\\arcgispro-cloned\\\\Lib\\\\site-packages\\\\pygris\\\\internals\\\\fips_codes.csv'"
     ]
    }
   ],
   "source": [
    "# Get TIGER/Line file for counties in a specific state\n",
    "wa_counties = pygris.counties(state = state_in, cb=True, year=2023)\n",
    "studyarea = wa_counties[wa_counties[\"NAME\"].isin(counties_in)]\n",
    "\n",
    "# Plot study area\n",
    "fig, ax = plt.subplots(figsize=(8, 8))\n",
    "studyarea.plot(ax=ax, facecolor=\"white\", edgecolor=\"gray\")\n",
    "for _, row in studyarea.iterrows():\n",
    "    plt.annotate(\n",
    "        row[\"NAME\"], \n",
    "        (row.geometry.centroid.x, row.geometry.centroid.y),\n",
    "        fontsize=8, color=\"blue\", fontweight='bold',\n",
    "        ha=\"center\",   # horizontal alignment\n",
    "        va=\"center\"    # vertical alignment\n",
    "    )\n",
    "ax.annotate('N', xy=(0.1, 0.95), xytext=(0.1, 0.85),\n",
    "            arrowprops=dict(facecolor='black', width=3, headwidth=10),\n",
    "            ha='center', va='center', fontsize=12,\n",
    "            xycoords='axes fraction')\n",
    "plt.axis(\"off\")\n",
    "plt.title(f\"{state_in} Study Area Counties\")\n",
    "plt.show()"
   ]
  },
  {
   "cell_type": "code",
   "execution_count": null,
   "id": "076b3cdc-6e49-452c-9630-ae160985195f",
   "metadata": {},
   "outputs": [],
   "source": [
    "studyarea.explore()"
   ]
  },
  {
   "cell_type": "markdown",
   "id": "eeb6a56a-872b-4b6c-b5e8-adb08c375929",
   "metadata": {},
   "source": [
    "## Load Smart Location Database"
   ]
  },
  {
   "cell_type": "code",
   "execution_count": null,
   "id": "bbc166c71b46805b",
   "metadata": {
    "collapsed": false,
    "jupyter": {
     "outputs_hidden": false
    }
   },
   "outputs": [],
   "source": [
    "US_SLD_CBG = gpd.read_file(sld_gdb_path, layer=\"EPA_SLD_Database_V3\")\n",
    "\n",
    "# filter Washington only (STATEFP = 53)\n",
    "Washington_SLD_CBG = US_SLD_CBG[US_SLD_CBG[\"STATEFP\"] == state_FIPS]"
   ]
  },
  {
   "cell_type": "code",
   "execution_count": null,
   "id": "9a3bcd52-1fb9-41bc-afd7-a38c26d952f3",
   "metadata": {},
   "outputs": [],
   "source": [
    "## different ways to explore data\n",
    "\n",
    "# Washington_SLD_CBG.head()\n",
    "# Washington_SLD_CBG.describe()\n",
    "# Washington_SLD_CBG.info()\n",
    "# Washington_SLD_CBG.columns.tolist()\n",
    "# Washington_SLD_CBG.crs\n",
    "Washington_SLD_CBG['CBSA_Name'].unique()"
   ]
  },
  {
   "cell_type": "code",
   "execution_count": null,
   "id": "333f34682a2fe976",
   "metadata": {
    "collapsed": false,
    "jupyter": {
     "outputs_hidden": false
    },
    "scrolled": true
   },
   "outputs": [],
   "source": [
    "### Different ways to show data\n",
    "Washington_SLD_CBG.plot(figsize=(8, 8), color=\"white\", edgecolor=\"black\")\n",
    "plt.title(\"Smart Location Database - WA Block Groups\")\n",
    "plt.show()"
   ]
  },
  {
   "cell_type": "code",
   "execution_count": null,
   "id": "5cea795a-2f82-4041-b342-dbb4b0120a6e",
   "metadata": {
    "scrolled": true
   },
   "outputs": [],
   "source": [
    "Washington_SLD_CBG.explore(\n",
    "    column=\"CSA_Name\",   # optional: color counties by a column\n",
    "    tooltip= ['GEOID20', 'CSA_Name', 'CBSA_Name'],  # show all attributes on hover/click\n",
    "    popup=True,      # clicking shows attribute table\n",
    "    cmap=\"Set3\"      # colormap\n",
    ")"
   ]
  },
  {
   "cell_type": "markdown",
   "id": "87478d9d-fd66-47bc-85ea-bfff503a3431",
   "metadata": {},
   "source": [
    "## filter SLD"
   ]
  },
  {
   "cell_type": "markdown",
   "id": "5c2c3670-bf84-4395-a571-2cbae98b2067",
   "metadata": {
    "jp-MarkdownHeadingCollapsed": true
   },
   "source": [
    "### filter SLD for study area"
   ]
  },
  {
   "cell_type": "code",
   "execution_count": null,
   "id": "87c6adff-dbc9-42cb-94d2-4529111a17b5",
   "metadata": {},
   "outputs": [],
   "source": [
    "fig, ax = plt.subplots(1, 2, figsize=(8, 4))  # 1 row, 2 columns\n",
    "\n",
    "# Left subplot\n",
    "studyarea.plot(ax=ax[0], color=\"white\", edgecolor=\"black\")\n",
    "ax[0].set_title(\"Study Area\")\n",
    "ax[0].axis(\"off\")\n",
    "\n",
    "# Right subplot\n",
    "Washington_SLD_CBG.plot(ax=ax[1], color=\"white\", edgecolor=\"black\")\n",
    "ax[1].set_title(\"CBG\")\n",
    "ax[1].axis(\"off\")\n",
    "\n",
    "plt.tight_layout()\n",
    "plt.show()"
   ]
  },
  {
   "cell_type": "code",
   "execution_count": null,
   "id": "baf38b74-c83b-4b87-af8d-522591046a5f",
   "metadata": {},
   "outputs": [],
   "source": [
    "# coordinate reference system sync\n",
    "Washington_SLD_CBG = Washington_SLD_CBG.to_crs(studyarea.crs)"
   ]
  },
  {
   "cell_type": "code",
   "execution_count": null,
   "id": "9d859aa9-1012-41de-af47-0bcb7f00a46a",
   "metadata": {},
   "outputs": [],
   "source": [
    "fig, ax = plt.subplots(1, 2, figsize=(8, 4))  # 1 row, 2 columns\n",
    "\n",
    "# Left subplot\n",
    "studyarea.plot(ax=ax[0], color=\"white\", edgecolor=\"black\")\n",
    "ax[0].set_title(\"Study Area\")\n",
    "ax[0].axis(\"off\")\n",
    "\n",
    "# Right subplot\n",
    "Washington_SLD_CBG.plot(ax=ax[1], color=\"white\", edgecolor=\"black\")\n",
    "ax[1].set_title(\"CBG\")\n",
    "ax[1].axis(\"off\")\n",
    "\n",
    "plt.tight_layout()\n",
    "plt.show()"
   ]
  },
  {
   "cell_type": "code",
   "execution_count": null,
   "id": "3d37b062361ce77c",
   "metadata": {
    "collapsed": false,
    "jupyter": {
     "outputs_hidden": false
    }
   },
   "outputs": [],
   "source": [
    "#filter CBGs based on county code and land area\n",
    "study_CBGs = Washington_SLD_CBG[Washington_SLD_CBG['COUNTYFP'].isin(studyarea['COUNTYFP'])]\n",
    "study_CBGs = study_CBGs[study_CBGs['Ac_Land']>0]\n",
    "\n",
    "# remove water from land by clipping (NEW** not present in R file) \n",
    "WA_SLD_study = gpd.clip(study_CBGs, studyarea)\n",
    "# we can do this because we had cb=True in pygris.counties(state = state_in, cb=True, year=2023) \n"
   ]
  },
  {
   "cell_type": "code",
   "execution_count": null,
   "id": "d4e8346f-7e45-4cf5-a979-77bf7d61308a",
   "metadata": {},
   "outputs": [],
   "source": [
    "print(study_CBGs.geometry.type.unique())\n",
    "print(WA_SLD_study.geometry.type.unique())  # clip function crates some Polygons"
   ]
  },
  {
   "cell_type": "code",
   "execution_count": null,
   "id": "292e4019-683f-4970-bf9c-f41bb59c516a",
   "metadata": {},
   "outputs": [],
   "source": [
    "# turn everything into MultiPolygon. \n",
    "WA_SLD_study[\"geometry\"] = WA_SLD_study[\"geometry\"].apply(\n",
    "    lambda geom: MultiPolygon([geom]) if isinstance(geom, Polygon) else geom\n",
    ")\n"
   ]
  },
  {
   "cell_type": "code",
   "execution_count": null,
   "id": "7f6dfb3c",
   "metadata": {},
   "outputs": [],
   "source": [
    "# we want to visualize the difference\n",
    "diff = gpd.overlay(WA_SLD_study, study_CBGs, keep_geom_type=False, how='symmetric_difference')"
   ]
  },
  {
   "cell_type": "code",
   "execution_count": null,
   "id": "c246ffa1-afe8-4cd8-a296-8d5107de8c3e",
   "metadata": {},
   "outputs": [],
   "source": [
    "fig, ax = plt.subplots(1, 3, figsize=(9, 4))\n",
    "\n",
    "study_CBGs.plot(ax=ax[0])\n",
    "ax[0].set_title(\"after filtering\")\n",
    "ax[0].axis(\"off\")\n",
    "\n",
    "WA_SLD_study.plot(ax=ax[1])\n",
    "ax[1].set_title(\"after clip()\")\n",
    "ax[1].axis(\"off\")\n",
    "\n",
    "diff.plot(ax=ax[2])\n",
    "ax[2].set_title(\"symmetric difference\")\n",
    "ax[2].axis(\"off\")\n",
    "\n",
    "plt.tight_layout()\n",
    "plt.show()"
   ]
  },
  {
   "cell_type": "code",
   "execution_count": null,
   "id": "4cd9997e-e71d-4a43-b32a-994d227487cb",
   "metadata": {
    "scrolled": true
   },
   "outputs": [],
   "source": [
    "diff.explore()"
   ]
  },
  {
   "cell_type": "code",
   "execution_count": null,
   "id": "abe56a11-4b77-41a8-80f0-288a718b3c61",
   "metadata": {},
   "outputs": [],
   "source": [
    "WA_SLD_study.info()"
   ]
  },
  {
   "cell_type": "markdown",
   "id": "30a8fcd8-0dde-4ce8-b029-03e56581ede2",
   "metadata": {
    "jp-MarkdownHeadingCollapsed": true
   },
   "source": [
    "### keeping necessary attributes"
   ]
  },
  {
   "cell_type": "code",
   "execution_count": null,
   "id": "2cfdfba9-80f1-4c62-90b7-0455d6fcea9d",
   "metadata": {
    "scrolled": true
   },
   "outputs": [],
   "source": [
    "WA_SLD_study = WA_SLD_study.loc[:, sld_selected_columns]\n",
    "WA_SLD_study.head()"
   ]
  },
  {
   "cell_type": "code",
   "execution_count": null,
   "id": "ce38f56d-71b5-4737-bf37-3f62ded0c9a0",
   "metadata": {
    "scrolled": true
   },
   "outputs": [],
   "source": [
    "WA_SLD_study.explore()"
   ]
  },
  {
   "cell_type": "code",
   "execution_count": null,
   "id": "12fedbd8-4e44-4fc4-980d-17079f063810",
   "metadata": {},
   "outputs": [],
   "source": [
    "## Saving the file\n",
    "save_geopackage(WA_SLD_study, os.path.join(save_path, \"WA_AREA_INITIAL\"), \"WA_AREA_INITIAL.gpkg\", driver=\"GPKG\") \n",
    "# folder = os.path.join(save_path, \"WA_AREA_INITIAL\")\n",
    "# os.makedirs(folder, exist_ok=True)  # make sure folder exists\n",
    "\n",
    "# filepath = os.path.join(folder, \"WA_AREA_INITIAL.gpkg\")  # we use .gpkg instead of .shp in order to keep column names\n",
    "# WA_SLD_study.to_file(filepath, driver=\"GPKG\")\n"
   ]
  },
  {
   "cell_type": "markdown",
   "id": "21d87013-4c23-4858-80e1-7bb3f2ac7c99",
   "metadata": {},
   "source": [
    "### income Filtering"
   ]
  },
  {
   "cell_type": "code",
   "execution_count": null,
   "id": "278d09b7-6cab-482d-9ce8-68a3cb15e4f7",
   "metadata": {},
   "outputs": [],
   "source": [
    "# LowWage_Category_Home\n",
    "median_low_wage_home = WA_SLD_study[\"R_PCTLOWWAGE\"].median(skipna=True) # Percentage of low-wage workers who live in these census tracts.\n",
    "\n",
    "# Create a new categorical column\n",
    "WA_SLD_study[\"LowWage_Category_Home\"] = np.where(\n",
    "    WA_SLD_study[\"R_PCTLOWWAGE\"] > median_low_wage_home,\n",
    "    \"Above Median\",\n",
    "    \"Below Median\"\n",
    ")"
   ]
  },
  {
   "cell_type": "code",
   "execution_count": null,
   "id": "bbe66534-5e1e-4f05-9e74-df247f72a03c",
   "metadata": {
    "scrolled": true
   },
   "outputs": [],
   "source": [
    "WA_SLD_study.explore(\n",
    "    column=\"LowWage_Category_Home\",         # column to color by\n",
    "    cmap=[\"cadetblue\", \"salmon\"],           # colors for categories\n",
    "    legend=True,                            # show legend\n",
    "    tooltip=True                             # hover to see attributes\n",
    ")"
   ]
  },
  {
   "cell_type": "code",
   "execution_count": null,
   "id": "2655d39e-8d9a-4a73-98ca-567b2d165c17",
   "metadata": {},
   "outputs": [],
   "source": [
    "# LowWage_Category_Work\n",
    "median_low_wage_work = WA_SLD_study[\"E_PctLowWage\"].median(skipna=True) # Percentage of low-wage workers who work in these census tracts.\n",
    "\n",
    "WA_SLD_study[\"LowWage_Category_Work\"] = np.where(\n",
    "    WA_SLD_study[\"E_PctLowWage\"] > median_low_wage_work,\n",
    "    \"Above Median\",\n",
    "    \"Below Median\"\n",
    ")"
   ]
  },
  {
   "cell_type": "code",
   "execution_count": null,
   "id": "a86d6823-5922-4b59-8b72-dd8ed671220d",
   "metadata": {
    "scrolled": true
   },
   "outputs": [],
   "source": [
    "WA_SLD_study.explore(\n",
    "    column=\"LowWage_Category_Work\",         # column to color by\n",
    "    cmap=[\"darkorange\", \"royalblue\"],           # colors for categories\n",
    "    legend=True,                            # show legend\n",
    "    tooltip=True                             # hover to see attributes\n",
    ")"
   ]
  },
  {
   "cell_type": "code",
   "execution_count": null,
   "id": "22865c23d07410a4",
   "metadata": {
    "collapsed": false,
    "jupyter": {
     "outputs_hidden": false
    }
   },
   "outputs": [],
   "source": [
    "WA_SLD_study['LowWage_Combined_home_work'] = WA_SLD_study[\"LowWage_Category_Home\"].astype(str) + \"_\" + WA_SLD_study[\"LowWage_Category_Work\"].astype(str)\n",
    "\n",
    "\n",
    "WA_SLD_study = WA_SLD_study.to_crs(32610)\n",
    "\n",
    "save_geopackage(WA_SLD_study, os.path.join(save_path, \"WA_AREA_INITIAL\"), \"WA_AREA_INCOME.gpkg\", driver=\"GPKG\") "
   ]
  },
  {
   "cell_type": "code",
   "execution_count": null,
   "id": "13ef779a-78f1-4bfb-a66b-25c7378b1266",
   "metadata": {},
   "outputs": [],
   "source": [
    "# WA_SLD_study.value_counts()\n",
    "a = WA_SLD_study['LowWage_Combined_home_work'].value_counts().reset_index()\n",
    "# locale_counts.columns = ['LOCALE', 'count']\n",
    "\n",
    "a"
   ]
  },
  {
   "cell_type": "markdown",
   "id": "ff18d7a6-8902-4c50-a6cf-7a3672dd5e28",
   "metadata": {},
   "source": [
    "## POPULATION CENTERS\n",
    "This data layer assists WSDOT in prioritizing active transportation improvements in areas where people congregate and access destinations, and where travel distances between destinations align with typical distances travelled by users of pedestrian and bicycle modes. These areas are a priority because they serve the broadest range of users and potential users of the transportation system, including the very young, very old, and people with disabilities."
   ]
  },
  {
   "cell_type": "code",
   "execution_count": 370,
   "id": "db751581-d6e3-4002-84af-6aaf0e500e54",
   "metadata": {},
   "outputs": [],
   "source": [
    "population_centers = gpd.read_file(pop_ctr_path)\n",
    "population_centers = population_centers.to_crs(32610)"
   ]
  },
  {
   "cell_type": "code",
   "execution_count": null,
   "id": "56a621bd-e36d-48bc-aae9-77f5d89d1295",
   "metadata": {
    "scrolled": true
   },
   "outputs": [],
   "source": [
    "m = WA_SLD_study.explore(name='study area CBGs',\n",
    "                         style_kwds={\"weight\": 0.2, \"opacity\": 0.6}, \n",
    "                         color='cyan')\n",
    "\n",
    "population_centers.explore(name='population centers', color='blue',    \n",
    "                           style_kwds={\"weight\": 0.5, \"opacity\": 0.8},  # thinner, lighter border\n",
    "                           m=m, legend=True)\n"
   ]
  },
  {
   "cell_type": "code",
   "execution_count": 373,
   "id": "5c22cd4b-22f2-4def-ae59-8a8954008fe7",
   "metadata": {},
   "outputs": [],
   "source": [
    "# # Keep full (uncut) population centers that intersect the CBGs\n",
    "# population_centers_CBG <- st_filter(\n",
    "#   population_centers,\n",
    "#   WA_AREA_SLD_CBG,\n",
    "#   .predicate = st_intersects\n",
    "# )\n",
    "population_centers_study_area = gpd.clip(population_centers, WA_SLD_study)\n",
    "# population_centers_study_area = gpd.clip(population_centers, studyarea.to_crs(32610))\n"
   ]
  },
  {
   "cell_type": "code",
   "execution_count": 374,
   "id": "f02f5144-1ff9-41a7-8b34-fef36d399032",
   "metadata": {},
   "outputs": [
    {
     "data": {
      "text/html": [
       "<div>\n",
       "<style scoped>\n",
       "    .dataframe tbody tr th:only-of-type {\n",
       "        vertical-align: middle;\n",
       "    }\n",
       "\n",
       "    .dataframe tbody tr th {\n",
       "        vertical-align: top;\n",
       "    }\n",
       "\n",
       "    .dataframe thead th {\n",
       "        text-align: right;\n",
       "    }\n",
       "</style>\n",
       "<table border=\"1\" class=\"dataframe\">\n",
       "  <thead>\n",
       "    <tr style=\"text-align: right;\">\n",
       "      <th></th>\n",
       "      <th>OBJECTID</th>\n",
       "      <th>PlaceName</th>\n",
       "      <th>PlaceType</th>\n",
       "      <th>OnHighwayN</th>\n",
       "      <th>ShapeSTAre</th>\n",
       "      <th>ShapeSTLen</th>\n",
       "      <th>geometry</th>\n",
       "    </tr>\n",
       "  </thead>\n",
       "  <tbody>\n",
       "    <tr>\n",
       "      <th>793</th>\n",
       "      <td>794</td>\n",
       "      <td>Vancouver</td>\n",
       "      <td>City/Town</td>\n",
       "      <td>1</td>\n",
       "      <td>1.373992e+09</td>\n",
       "      <td>407007.824460</td>\n",
       "      <td>MULTIPOLYGON (((518616.205 5059549.418, 518619...</td>\n",
       "    </tr>\n",
       "    <tr>\n",
       "      <th>490</th>\n",
       "      <td>491</td>\n",
       "      <td>Minnehaha CDP</td>\n",
       "      <td>Census Designated Place</td>\n",
       "      <td>1</td>\n",
       "      <td>6.134331e+07</td>\n",
       "      <td>37795.503517</td>\n",
       "      <td>POLYGON ((530969.02 5057211.841, 530969.378 50...</td>\n",
       "    </tr>\n",
       "    <tr>\n",
       "      <th>313</th>\n",
       "      <td>314</td>\n",
       "      <td>Hazel Dell CDP</td>\n",
       "      <td>Census Designated Place</td>\n",
       "      <td>1</td>\n",
       "      <td>1.341980e+08</td>\n",
       "      <td>62398.942950</td>\n",
       "      <td>POLYGON ((529550.147 5059954.702, 529550.233 5...</td>\n",
       "    </tr>\n",
       "    <tr>\n",
       "      <th>261</th>\n",
       "      <td>262</td>\n",
       "      <td>Five Corners CDP</td>\n",
       "      <td>Census Designated Place</td>\n",
       "      <td>1</td>\n",
       "      <td>1.607262e+08</td>\n",
       "      <td>64474.535474</td>\n",
       "      <td>POLYGON ((532445.835 5061659.789, 532552.864 5...</td>\n",
       "    </tr>\n",
       "    <tr>\n",
       "      <th>559</th>\n",
       "      <td>560</td>\n",
       "      <td>Orchards CDP</td>\n",
       "      <td>Census Designated Place</td>\n",
       "      <td>1</td>\n",
       "      <td>1.484787e+08</td>\n",
       "      <td>61588.106592</td>\n",
       "      <td>POLYGON ((537644.727 5061724.618, 537644.77 50...</td>\n",
       "    </tr>\n",
       "    <tr>\n",
       "      <th>...</th>\n",
       "      <td>...</td>\n",
       "      <td>...</td>\n",
       "      <td>...</td>\n",
       "      <td>...</td>\n",
       "      <td>...</td>\n",
       "      <td>...</td>\n",
       "      <td>...</td>\n",
       "    </tr>\n",
       "    <tr>\n",
       "      <th>245</th>\n",
       "      <td>246</td>\n",
       "      <td>Everson UGA</td>\n",
       "      <td>Urban Growth Area</td>\n",
       "      <td>1</td>\n",
       "      <td>1.223127e+07</td>\n",
       "      <td>50829.691897</td>\n",
       "      <td>MULTIPOLYGON (((550169.591 5418409.664, 550171...</td>\n",
       "    </tr>\n",
       "    <tr>\n",
       "      <th>528</th>\n",
       "      <td>529</td>\n",
       "      <td>Nooksack</td>\n",
       "      <td>City/Town</td>\n",
       "      <td>1</td>\n",
       "      <td>2.560064e+07</td>\n",
       "      <td>33082.340955</td>\n",
       "      <td>POLYGON ((549960.281 5418613.912, 549775.53 54...</td>\n",
       "    </tr>\n",
       "    <tr>\n",
       "      <th>431</th>\n",
       "      <td>432</td>\n",
       "      <td>Lynden UGA</td>\n",
       "      <td>Urban Growth Area</td>\n",
       "      <td>1</td>\n",
       "      <td>3.092658e+07</td>\n",
       "      <td>47629.830686</td>\n",
       "      <td>MULTIPOLYGON (((539285.928 5423629.964, 539285...</td>\n",
       "    </tr>\n",
       "    <tr>\n",
       "      <th>430</th>\n",
       "      <td>431</td>\n",
       "      <td>Lynden</td>\n",
       "      <td>City/Town</td>\n",
       "      <td>1</td>\n",
       "      <td>1.534609e+08</td>\n",
       "      <td>82293.809779</td>\n",
       "      <td>POLYGON ((538419.811 5420197.332, 538407.52 54...</td>\n",
       "    </tr>\n",
       "    <tr>\n",
       "      <th>735</th>\n",
       "      <td>736</td>\n",
       "      <td>Sumas</td>\n",
       "      <td>City/Town</td>\n",
       "      <td>1</td>\n",
       "      <td>4.074568e+07</td>\n",
       "      <td>36270.630650</td>\n",
       "      <td>POLYGON ((553809.727 5426115.284, 553627.869 5...</td>\n",
       "    </tr>\n",
       "  </tbody>\n",
       "</table>\n",
       "<p>542 rows × 7 columns</p>\n",
       "</div>"
      ],
      "text/plain": [
       "     OBJECTID         PlaceName                PlaceType  OnHighwayN  \\\n",
       "793       794         Vancouver                City/Town           1   \n",
       "490       491     Minnehaha CDP  Census Designated Place           1   \n",
       "313       314    Hazel Dell CDP  Census Designated Place           1   \n",
       "261       262  Five Corners CDP  Census Designated Place           1   \n",
       "559       560      Orchards CDP  Census Designated Place           1   \n",
       "..        ...               ...                      ...         ...   \n",
       "245       246       Everson UGA        Urban Growth Area           1   \n",
       "528       529          Nooksack                City/Town           1   \n",
       "431       432        Lynden UGA        Urban Growth Area           1   \n",
       "430       431            Lynden                City/Town           1   \n",
       "735       736             Sumas                City/Town           1   \n",
       "\n",
       "       ShapeSTAre     ShapeSTLen  \\\n",
       "793  1.373992e+09  407007.824460   \n",
       "490  6.134331e+07   37795.503517   \n",
       "313  1.341980e+08   62398.942950   \n",
       "261  1.607262e+08   64474.535474   \n",
       "559  1.484787e+08   61588.106592   \n",
       "..            ...            ...   \n",
       "245  1.223127e+07   50829.691897   \n",
       "528  2.560064e+07   33082.340955   \n",
       "431  3.092658e+07   47629.830686   \n",
       "430  1.534609e+08   82293.809779   \n",
       "735  4.074568e+07   36270.630650   \n",
       "\n",
       "                                              geometry  \n",
       "793  MULTIPOLYGON (((518616.205 5059549.418, 518619...  \n",
       "490  POLYGON ((530969.02 5057211.841, 530969.378 50...  \n",
       "313  POLYGON ((529550.147 5059954.702, 529550.233 5...  \n",
       "261  POLYGON ((532445.835 5061659.789, 532552.864 5...  \n",
       "559  POLYGON ((537644.727 5061724.618, 537644.77 50...  \n",
       "..                                                 ...  \n",
       "245  MULTIPOLYGON (((550169.591 5418409.664, 550171...  \n",
       "528  POLYGON ((549960.281 5418613.912, 549775.53 54...  \n",
       "431  MULTIPOLYGON (((539285.928 5423629.964, 539285...  \n",
       "430  POLYGON ((538419.811 5420197.332, 538407.52 54...  \n",
       "735  POLYGON ((553809.727 5426115.284, 553627.869 5...  \n",
       "\n",
       "[542 rows x 7 columns]"
      ]
     },
     "execution_count": 374,
     "metadata": {},
     "output_type": "execute_result"
    }
   ],
   "source": [
    "population_centers_study_area"
   ]
  },
  {
   "cell_type": "code",
   "execution_count": null,
   "id": "3f941c2a-9bb1-4e7e-867b-873804985f98",
   "metadata": {
    "scrolled": true
   },
   "outputs": [],
   "source": [
    "population_centers_study_area.explore()"
   ]
  },
  {
   "cell_type": "code",
   "execution_count": null,
   "id": "1136e105-f102-4f8e-b592-f49b5c5081c4",
   "metadata": {},
   "outputs": [],
   "source": [
    "# Let see the CBGs that do not intersect population centers\n",
    "\n",
    "# Find intersections\n",
    "intersects = WA_SLD_study.geometry.apply(\n",
    "    lambda x: population_centers.intersects(x).any()\n",
    ")\n",
    "WA_SLD_study['intersects_w_pop_center'] = intersects\n",
    "\n",
    "# Keep only those that do NOT intersect\n",
    "# WA_SLD_study_Outside = WA_SLD_study[~intersects]\n",
    "WA_SLD_study_Outside = WA_SLD_study[WA_SLD_study.intersects_w_pop_center==False]\n",
    "print(len(WA_SLD_study_Outside))      "
   ]
  },
  {
   "cell_type": "code",
   "execution_count": null,
   "id": "b3e8c807-9194-4c23-9c1e-289051b68344",
   "metadata": {
    "scrolled": true
   },
   "outputs": [],
   "source": [
    "WA_SLD_study_Outside.explore()"
   ]
  },
  {
   "cell_type": "code",
   "execution_count": null,
   "id": "45cdf4d7-3f94-498e-a604-13b56a36fc14",
   "metadata": {},
   "outputs": [],
   "source": [
    "# I want to keep only CBGs that intercept population centers data.\n",
    "WA_SLD_study_PC = WA_SLD_study[WA_SLD_study.intersects_w_pop_center==True]\n",
    "len(WA_SLD_study_PC)\n",
    "#3590 CBGs, about 96.77% of the initial number of CBGs"
   ]
  },
  {
   "cell_type": "code",
   "execution_count": null,
   "id": "d0fc4b66-2e34-4f7b-a577-79161b08379e",
   "metadata": {
    "scrolled": true
   },
   "outputs": [],
   "source": [
    "WA_SLD_study_PC.explore()"
   ]
  },
  {
   "cell_type": "code",
   "execution_count": null,
   "id": "3c73e2b4-0c45-4c4b-80d0-a87f10159bfb",
   "metadata": {},
   "outputs": [],
   "source": [
    "## Get the parts of CBGs that are Just *outside* the population centers \n",
    "# based on the original example, we should get 1335 rows in the output dataframe.\n",
    "# --- original R code:\n",
    "# WA_CBG_outside_PCs <- st_difference(\n",
    "#   WA_AREA_PC_SLD_CBG,\n",
    "#   st_union(population_centers)  # Union all population center polygons into one\n",
    "# )\n",
    "\n",
    "## 1- One way is to use overlay() function.  -------------------------------------------------------------------------\n",
    "# diff = gpd.overlay(study_CBGs[WA_SLD_study.intersects_w_pop_center==True].to_crs(32610), population_centers, how='difference')\n",
    "# diff = gpd.overlay(WA_SLD_study_PC, population_centers, keep_geom_type=True, how='difference')\n",
    "# diff.explore()  # if we look at the map, there will be super small polygons, on Seattle for example, that are not in the R file and the original example\n",
    "\n",
    "## 2- The other way is to exactly replicate the R file  --------------------------------------------------------------\n",
    "pop_union = unary_union(population_centers_study_area.geometry) # Union all population centers into one geometry\n",
    "WA_CBG_outside_PCs = WA_SLD_study_PC.copy()\n",
    "# WA_CBG_outside_PCs = study_CBGs[WA_SLD_study.intersects_w_pop_center==True].to_crs(32610) \n",
    "# if we use this which is the study CBGs with water, we can get exactly 1335 rows\n",
    "WA_CBG_outside_PCs[\"geometry\"] = WA_CBG_outside_PCs.geometry.difference(pop_union) # Geometric difference: keep only the \"outside\" part\n",
    "#This line removes non polygons from geometrycollection entries\n",
    "WA_CBG_outside_PCs = WA_CBG_outside_PCs[~WA_CBG_outside_PCs.geometry.is_empty]  # this results in a similar map with 1333 rows.\n",
    "# if we use: WA_CBG_outside_PCs = study_CBGs[WA_SLD_study.intersects_w_pop_center==True].to_crs(32610) \n",
    "# which is the study CBGs with water, we can get exactly 1335 rows"
   ]
  },
  {
   "cell_type": "code",
   "execution_count": null,
   "id": "e78aec9a-09d0-4dc4-b977-030a2d2089b9",
   "metadata": {},
   "outputs": [],
   "source": [
    "# if we get geometryCollection entries (which may contain lines) we remove those lines and only keep polygons\n",
    "mask = WA_CBG_outside_PCs.geometry.type == 'GeometryCollection'\n",
    "WA_CBG_outside_PCs.loc[mask, \"geometry\"] = WA_CBG_outside_PCs.loc[mask, \"geometry\"].apply(geomcollection_to_multipolygon)\n",
    "WA_CBG_outside_PCs = WA_CBG_outside_PCs[~WA_CBG_outside_PCs.geometry.is_empty]  \n",
    "# now let's keep everything as MultiPolygons\n",
    "polygon_to_multipolygon(WA_CBG_outside_PCs)"
   ]
  },
  {
   "cell_type": "code",
   "execution_count": null,
   "id": "faac4e3d-6443-4ab0-b997-8fd68611ac0f",
   "metadata": {},
   "outputs": [],
   "source": [
    "len(WA_CBG_outside_PCs)"
   ]
  },
  {
   "cell_type": "code",
   "execution_count": null,
   "id": "a70c4227-1c49-4b47-83ee-3ddd758c217e",
   "metadata": {},
   "outputs": [],
   "source": [
    "WA_CBG_outside_PCs.geometry.type.unique()\n"
   ]
  },
  {
   "cell_type": "code",
   "execution_count": null,
   "id": "6f3cf226-ebe1-48fd-95f0-a29534640c63",
   "metadata": {
    "scrolled": true
   },
   "outputs": [],
   "source": [
    "WA_CBG_outside_PCs.explore()"
   ]
  },
  {
   "cell_type": "code",
   "execution_count": null,
   "id": "05c15957-3643-44db-87a8-d0a84915ff1f",
   "metadata": {
    "scrolled": true
   },
   "outputs": [],
   "source": [
    "a = WA_CBG_outside_PCs.copy()\n",
    "b = population_centers_study_area.copy()\n",
    "c = WA_SLD_study_Outside.copy()\n",
    "\n",
    "a[\"layer\"] = \"Outside PCs\"\n",
    "b[\"layer\"] = \"Population centers\"\n",
    "c[\"layer\"] = \"No intersection\"\n",
    "\n",
    "combined = pd.concat([a, b, c], ignore_index=True)\n",
    "\n",
    "# Optional: fix category order and colors\n",
    "combined[\"layer\"] = pd.Categorical(combined[\"layer\"],\n",
    "                                   categories=[\"Outside PCs\", \"Population centers\", \"No intersection\"])\n",
    "\n",
    "# Use a list of colors (one per category)\n",
    "combined.explore(\n",
    "    column=\"layer\",\n",
    "    categorical=True,\n",
    "    cmap=[\"cyan\", \"blue\", \"gray\"],   # colors correspond to the category order above\n",
    "    legend=True,\n",
    "    style_kwds={\"weight\": 0.4, \"opacity\": 0.7}\n",
    ")"
   ]
  },
  {
   "cell_type": "code",
   "execution_count": null,
   "id": "a4f7644c-3cdf-4420-b5c4-6c96830ec7f8",
   "metadata": {},
   "outputs": [],
   "source": [
    "print(len(population_centers_study_area)) # Population centers within the initial study area\n",
    "print(len(WA_CBG_outside_PCs)) # CBGs that intersect population centers (but, just the parts of CBGs adjacent or right outside of population centers)\n",
    "print(len(WA_SLD_study_Outside)) # CBGs that do not intersect any population centers"
   ]
  },
  {
   "cell_type": "code",
   "execution_count": null,
   "id": "6606ce8d-1547-4e7a-9689-aa3d100223f4",
   "metadata": {},
   "outputs": [],
   "source": [
    "# mapview(WA_CBG_outside_PCs, zcol = \"LowWage_Combined\", col.regions = c(\"red4\", \"red\", \"brown1\", \"grey\"), legend = TRUE)\n",
    "\n",
    "# defining the order\n",
    "# WA_CBG_outside_PCs[\"LowWage_Combined\"] = pd.Categorical( WA_CBG_outside_PCs[\"LowWage_Combined\"],\n",
    "#                                                          categories=[\"Above Median_Above Median\", \"Above Median_Below Median\", \n",
    "#                                                                      \"Below Median_Above Median\", \"Below Median_Below Median\"])\n",
    "# wage_map = WA_CBG_outside_PCs.explore(column='LowWage_Combined',\n",
    "#                                       cmap=[\"gray\", \"lightcoral\", \"red\", \"maroon\"], \n",
    "#                                       legend=True,\n",
    "#                                       style_kwds={\"weight\": 0.3, \"opacity\": 0.7})\n",
    "\n",
    "# We can analyze the four groups, but should really focus on the last three, with the last group of CBGs considered as the most affected.\n",
    "\n",
    "\n",
    "WA_CBG_outside_PCs[\"LowWage_Combined_home_work\"] = pd.Categorical( WA_CBG_outside_PCs[\"LowWage_Combined_home_work\"],\n",
    "                                                         categories=[\"Above Median_Above Median\", \"Above Median_Below Median\", \n",
    "                                                                     \"Below Median_Above Median\", \"Below Median_Below Median\"])\n",
    "wage_map = WA_CBG_outside_PCs.explore(column='LowWage_Combined_home_work',\n",
    "                           cmap=[\"gray\", \"lightcoral\", \"red\", \"maroon\"],\n",
    "                           legend=True)\n"
   ]
  },
  {
   "cell_type": "code",
   "execution_count": null,
   "id": "2cd058bb-12b9-40e7-a00a-418014226004",
   "metadata": {
    "scrolled": true
   },
   "outputs": [],
   "source": [
    "wage_map"
   ]
  },
  {
   "cell_type": "code",
   "execution_count": null,
   "id": "76cb6f70-4f51-462a-a26a-6b7da1f7574d",
   "metadata": {},
   "outputs": [],
   "source": [
    "wage_pc_map = population_centers_study_area.explore(m=wage_map, style_kwds={\"weight\": 0.3, \"opacity\": 0.7})"
   ]
  },
  {
   "cell_type": "code",
   "execution_count": null,
   "id": "4630aba0-42ec-4a68-a07f-1899de5cee3e",
   "metadata": {
    "scrolled": true
   },
   "outputs": [],
   "source": [
    "wage_pc_map"
   ]
  },
  {
   "cell_type": "code",
   "execution_count": null,
   "id": "0bd28800-3793-4cc6-a170-08af3cd308f9",
   "metadata": {
    "scrolled": true
   },
   "outputs": [],
   "source": [
    "WA_SLD_study_Outside.explore(column = 'intersects_w_pop_center',\n",
    "                             m=wage_pc_map,\n",
    "                             cmap=['white'],\n",
    "                             legend=True,\n",
    "                             style_kwds={\"weight\": 0.3, \"opacity\": 0.7})"
   ]
  },
  {
   "cell_type": "markdown",
   "id": "be38f9a5-9b56-4317-923b-c5895b21afb9",
   "metadata": {
    "jp-MarkdownHeadingCollapsed": true
   },
   "source": [
    "## NCES DATA\n"
   ]
  },
  {
   "cell_type": "markdown",
   "id": "d2f239d1-97b7-4299-a003-ce835d155e91",
   "metadata": {
    "jp-MarkdownHeadingCollapsed": true
   },
   "source": [
    "### Read the data\n"
   ]
  },
  {
   "cell_type": "code",
   "execution_count": null,
   "id": "db02ee7c-a6b6-4fae-ab77-c6efbb6848af",
   "metadata": {},
   "outputs": [],
   "source": [
    "nces_0 = gpd.read_file(nces_WA_path)\n",
    "nces_0 = nces_0.to_crs(32610)"
   ]
  },
  {
   "cell_type": "code",
   "execution_count": null,
   "id": "9c388469-832f-4127-ae55-6d0ce84d92f4",
   "metadata": {},
   "outputs": [],
   "source": [
    "area_type = nces_0.copy()\n",
    "area_type[\"LOCALE\"] = area_type[\"LOCALE\"].astype(int)\n",
    "\n",
    "# Define conditions\n",
    "conditions = [\n",
    "    area_type[\"LOCALE\"].isin([11, 12, 13]),\n",
    "    area_type[\"LOCALE\"].isin([21, 22, 23]),\n",
    "    area_type[\"LOCALE\"].isin([31, 32, 33]),\n",
    "    area_type[\"LOCALE\"].isin([41, 42, 43])\n",
    "]\n",
    "\n",
    "# Define corresponding choices\n",
    "choices = [\"City\", \"Suburban\", \"Town\", \"Rural\"]\n",
    "\n",
    "# Apply np.select\n",
    "area_type[\"LOCALE\"] = np.select(conditions, choices, default=nces_0[\"LOCALE\"].astype(str))\n",
    "\n",
    "# Check result\n",
    "area_type.head()"
   ]
  },
  {
   "cell_type": "code",
   "execution_count": null,
   "id": "48549a5f-cfb2-4d5d-9304-b3ae71e3b313",
   "metadata": {
    "scrolled": true
   },
   "outputs": [],
   "source": [
    "m=area_type.explore(column='LOCALE')\n",
    "m2 = WA_CBG_outside_PCs.explore(m=m)"
   ]
  },
  {
   "cell_type": "code",
   "execution_count": null,
   "id": "e398cffb-0764-4323-af8f-82289d6a158a",
   "metadata": {
    "scrolled": true
   },
   "outputs": [],
   "source": [
    "m"
   ]
  },
  {
   "cell_type": "code",
   "execution_count": null,
   "id": "dcf94f1a-8de1-46f4-bec2-53d8056deee5",
   "metadata": {},
   "outputs": [],
   "source": [
    "m2"
   ]
  },
  {
   "cell_type": "markdown",
   "id": "e9599314-c2f9-4d5f-8c85-c490e4176805",
   "metadata": {},
   "source": [
    "### intersect with WA_CBGs_outside_PCs\n",
    "\n",
    "now we find the area type of each CBG that intersects with population centers"
   ]
  },
  {
   "cell_type": "code",
   "execution_count": null,
   "id": "9173909a-24e8-4f6e-b3cf-e88f085eaca9",
   "metadata": {
    "scrolled": true
   },
   "outputs": [],
   "source": [
    "# Ensure both GeoDataFrames use the same Coordinate Reference System (CRS)\n",
    "if WA_CBG_outside_PCs.crs != area_type.crs:\n",
    "    area_type = area_type.to_crs(WA_CBG_outside_PCs.crs)\n",
    "\n",
    "\n",
    "# Fix any invalid geometries to prevent errors during intersection\n",
    "WA_CBG_outside_PCs.geometry = WA_CBG_outside_PCs.geometry.make_valid()\n",
    "area_type.geometry = area_type.geometry.make_valid()\n",
    "# Use simplify with a tolerance of 0 as an extra step to repair geometries\n",
    "area_type.geometry = area_type.geometry.simplify(tolerance=0)\n",
    "\n",
    "\n",
    "# R: sf::sf_use_s2(FALSE)\n",
    "# Note: This is not needed in Geopandas, which uses a planar geometry engine by default.\n",
    "\n",
    "# R: intersection <- st_intersection(WA_CBG_outside_PCs, AREA_TYPE)\n",
    "intersection_gdf = gpd.overlay(WA_CBG_outside_PCs, area_type, how='intersection')\n",
    "# R: intersection$area <- st_area(intersection)\n",
    "intersection_gdf['area'] = intersection_gdf.geometry.area\n",
    "\n",
    "# R: sf::sf_use_s2(TRUE)\n",
    "# Note: Not applicable to Geopandas.\n",
    "\n",
    "# R: largest_intersection <- intersection %>%\n",
    "# R:   group_by(GEOID10) %>%\n",
    "# R:   summarize(LOCALE = LOCALE[which.max(area)], max_area = max(area))\n",
    "# R:\n",
    "# R: largest_intersection_df <- largest_intersection %>%\n",
    "# R:   st_drop_geometry() %>%\n",
    "# R:   distinct(GEOID10, .keep_all = TRUE)\n",
    "\n",
    "# Python equivalent: Find the row with the largest area for each GEOID10\n",
    "# A common pandas method is to sort and drop duplicates.\n",
    "intersection_gdf = intersection_gdf.sort_values('area', ascending=False)\n",
    "largest_intersection_df = intersection_gdf.drop_duplicates(subset='GEOID10', keep='first')\n",
    "# We only need the key and the column to be merged ('GEOID10', 'LOCALE', and 'area' for the next step)\n",
    "# This mimics the creation of 'largest_intersection_df' in R.\n",
    "largest_intersection_df = largest_intersection_df[['GEOID10', 'LOCALE', 'area']].rename(columns={'area': 'max_area'})\n",
    "\n",
    "\n",
    "# R: WA_CBG_outside_PCs <- WA_CBG_outside_PCs %>%\n",
    "# R:   left_join(largest_intersection_df, by = \"GEOID10\")\n",
    "WA_CBG_outside_PCs = WA_CBG_outside_PCs.merge(\n",
    "    largest_intersection_df,\n",
    "    on='GEOID10',\n",
    "    how='left'\n",
    ")\n",
    "\n",
    "# R: WA_CBG_outside_PCs <- subset(WA_CBG_outside_PCs, select=-c(max_area))\n",
    "WA_CBG_outside_PCs = WA_CBG_outside_PCs.drop(columns=['max_area'])\n",
    "\n",
    "# R: print(nrow(WA_CBG_outside_PCs))\n",
    "print(f\"Number of rows: {len(WA_CBG_outside_PCs)}\")\n"
   ]
  },
  {
   "cell_type": "code",
   "execution_count": null,
   "id": "f70fa4ff-3d5a-4247-bb90-4744d05980f5",
   "metadata": {
    "scrolled": true
   },
   "outputs": [],
   "source": [
    "WA_CBG_outside_PCs.head()"
   ]
  },
  {
   "cell_type": "code",
   "execution_count": null,
   "id": "295ff9e2-0c0e-4580-a141-0f83c276ac56",
   "metadata": {
    "scrolled": true
   },
   "outputs": [],
   "source": [
    "# Fixing missing LOCALEs\n",
    "\n",
    "WA_CBG_outside_PCs.geometry = WA_CBG_outside_PCs.geometry.make_valid()\n",
    "area_type.geometry = area_type.geometry.make_valid()\n",
    "area_type.geometry = area_type.geometry.simplify(tolerance=0)\n",
    "\n",
    "missing_locale_mask = WA_CBG_outside_PCs['LOCALE'].isna()\n",
    "cbgs_to_fix = WA_CBG_outside_PCs[missing_locale_mask]\n",
    "print(f'fixing missing LOCALE for GEOID10s:{cbgs_to_fix.GEOID10.to_list()}')\n",
    "\n",
    "if not cbgs_to_fix.empty:\n",
    "    # `sjoin_nearest` does all the distance calculations, finds the minimum,\n",
    "    # and joins the attributes in one efficient step.\n",
    "    joined = gpd.sjoin_nearest(cbgs_to_fix, area_type, how=\"left\")\n",
    "    # Update the original GeoDataFrame using the results from the join.\n",
    "    # The locale from the nearest 'area_type' polygon is in the 'LOCALE_right' column.\n",
    "    WA_CBG_outside_PCs.loc[missing_locale_mask, 'LOCALE'] = joined['LOCALE_right'].values\n",
    "\n",
    "missing_locale_mask = WA_CBG_outside_PCs['GEOID10'].isna()\n",
    "print(\"\\nChecking for any remaining missing locales:\")\n",
    "if not missing_locale_mask.any():\n",
    "    print(\"No missing locales found. ✅\")\n",
    "else:\n",
    "    print(missing_locale_mask)"
   ]
  },
  {
   "cell_type": "code",
   "execution_count": null,
   "id": "a35e35cf-6e42-4f99-b941-b619573c1ac0",
   "metadata": {},
   "outputs": [],
   "source": [
    "locale_counts = WA_CBG_outside_PCs['LOCALE'].value_counts().reset_index()\n",
    "locale_counts.columns = ['LOCALE', 'count']\n",
    "\n",
    "locale_counts"
   ]
  },
  {
   "cell_type": "code",
   "execution_count": null,
   "id": "8ffcc297-4102-442f-b1bd-d0d21d9df100",
   "metadata": {},
   "outputs": [],
   "source": [
    "def custom_summary(x):\n",
    "    return pd.Series({\n",
    "        \"N\": x.count(),\n",
    "        \"Q1\": x.quantile(0.25),\n",
    "        \"Q3\": x.quantile(0.75),\n",
    "        \"Mean\": x.mean(),\n",
    "        \"SD\": x.std(),\n",
    "        \"Median [Min, Max]\": f\"{x.median():.2f} [{x.min():.2f}, {x.max():.2f}]\"\n",
    "    })\n",
    "\n",
    "def categorical_summary(df, col4rows, col4columns):\n",
    "    counts = (\n",
    "        df\n",
    "        .groupby([df[col4rows], df[col4columns]], observed=True)\n",
    "        .size()\n",
    "        .unstack(fill_value=0)\n",
    "    )\n",
    "    percentages = counts.div(counts.sum(axis=0), axis=1) * 100\n",
    "    # Combine \"count (pct%)\"\n",
    "    combined = counts.astype(str) + \" (\" + percentages.round(1).astype(str) + \"%)\"\n",
    "    return combined  \n",
    "\n",
    "result = {}\n",
    "for col in [\"R_PCTLOWWAGE\", \"E_PctLowWage\"]:\n",
    "    summary = (\n",
    "        WA_CBG_outside_PCs\n",
    "        .groupby(\"LowWage_Combined_home_work\", observed=True)[col]\n",
    "        .apply(custom_summary)\n",
    "        .unstack(level=0)   # groups (Above/Below Median) become columns\n",
    "    )\n",
    "    result[col] = summary\n",
    "    \n",
    "locale_summary = categorical_summary(WA_CBG_outside_PCs, \"LOCALE\", \"LowWage_Combined_home_work\")\n",
    "\n",
    "# ---------- Combine everything ----------\n",
    "descript_category_0 = pd.concat({**result, \"LOCALE\": locale_summary}, axis=0)\n",
    "\n",
    "descript_category_0"
   ]
  },
  {
   "cell_type": "code",
   "execution_count": null,
   "id": "8de43878-4b4e-42a6-a437-df9e4304a656",
   "metadata": {},
   "outputs": [],
   "source": [
    "wa_cbg_outside_pcs_1 = WA_CBG_outside_PCs.copy()\n",
    "population_centers_filtered_1 = population_centers_study_area.copy()\n",
    "wa_area_sld_cbg_outside_1 = WA_SLD_study_Outside.copy()\n",
    "\n",
    "# R: WA_CBG_outside_PCs_1 <- WA_CBG_outside_PCs_1 %>% mutate(...)\n",
    "# Create a dictionary to recode the values\n",
    "recode_dict = {\n",
    "    \"Below Median_Below Median\": \"High Income (Group 1)\",\n",
    "    \"Above Median_Above Median\": \"Low Income (Group 2)\",\n",
    "    \"Above Median_Below Median\": \"Low Income (Group 3)\",\n",
    "    \"Below Median_Above Median\": \"Low Income (Group 4)\"\n",
    "}\n",
    "wa_cbg_outside_pcs_1['LowWage_Combined_home_work'] = wa_cbg_outside_pcs_1['LowWage_Combined_home_work'].map(recode_dict)\n",
    "\n",
    "# R: LowWage_Combined = factor(LowWage_Combined, levels = c(...))\n",
    "# To control the order in the legend, we convert the column to a pandas Categorical type\n",
    "category_order = [\n",
    "    \"High Income (Group 1)\", \"Low Income (Group 2)\",\n",
    "    \"Low Income (Group 3)\", \"Low Income (Group 4)\"\n",
    "]\n",
    "wa_cbg_outside_pcs_1['LowWage_Combined_home_work'] = pd.Categorical(\n",
    "    wa_cbg_outside_pcs_1['LowWage_Combined_home_work'],\n",
    "    categories=category_order,\n",
    "    ordered=True\n",
    ")\n",
    "\n",
    "# R: income_colors <- c(...)\n",
    "# The R named vector translates directly to a Python dictionary\n",
    "income_colors = {\n",
    "    \"High Income (Group 1)\": \"deepskyblue\",\n",
    "    \"Low Income (Group 2)\": \"#CD5C5C\",  # brown1 is not standard, using indianred\n",
    "    \"Low Income (Group 3)\": \"red\",\n",
    "    \"Low Income (Group 4)\":  \"#B40426\" # red4 is not a standard HTML color, using hex\n",
    "}\n",
    "\n",
    "# --- 2. Create the Interactive Map ---\n",
    "\n",
    "m = wa_cbg_outside_pcs_1.explore(\n",
    "    column=\"LowWage_Combined_home_work\",\n",
    "    cmap=[income_colors[cat] for cat in category_order], # Pass a list of colors in the correct order\n",
    "    categorical=True,\n",
    "    legend=True, # We'll create the legend and then customize its title\n",
    "    popup=False,\n",
    "    name=\"Satellite Community\" # Layer name for the layer control\n",
    ")\n",
    "\n",
    "\n",
    "population_centers_filtered_1.explore(\n",
    "    m=m,\n",
    "    color=\"blue\",\n",
    "    style_kwds={'fillOpacity': 0.5, 'weight': 1},\n",
    "    name=\"Population Centers\"\n",
    ")\n",
    "wa_area_sld_cbg_outside_1.explore(\n",
    "    m=m,\n",
    "    color=\"grey\",\n",
    "    style_kwds={'fillColor': 'black', 'fillOpacity': 0.6, 'weight': 1},\n",
    "    name=\"Non-Satellite Community\"\n",
    ")\n",
    "\n",
    "# Add a layer control panel and display the map (same as before)\n",
    "folium.LayerControl().add_to(m)\n",
    "m"
   ]
  },
  {
   "cell_type": "markdown",
   "id": "1e5f3b11-1aa2-4af1-a7c5-e8b574291f19",
   "metadata": {},
   "source": [
    "# saving files"
   ]
  },
  {
   "cell_type": "code",
   "execution_count": null,
   "id": "654ef796-3a44-421f-9346-12b56c78a6d5",
   "metadata": {},
   "outputs": [],
   "source": [
    "savepath = 'descript_category_0.xlsx'\n",
    "descript_category_0.to_excel(savepath)\n",
    "print(f\"saved descriptive summary to {savepath} \")"
   ]
  },
  {
   "cell_type": "code",
   "execution_count": null,
   "id": "762b23f5-484d-48d2-86d7-bc84af2d35dd",
   "metadata": {},
   "outputs": [],
   "source": [
    "WA_CBG_outside_PCs_data_0 = WA_CBG_outside_PCs.drop(columns='geometry')\n",
    "WA_CBG_outside_PCs_data_0.to_excel(\"WA_CBG_outside_PCs_data_0.xlsx\", index=False)\n",
    "\n",
    "print(\"saved data to WA_CBG_outside_PCs_data_0.xlsx\")"
   ]
  },
  {
   "cell_type": "code",
   "execution_count": null,
   "id": "f632f3ba-4064-44c5-b28a-13b2124135b3",
   "metadata": {},
   "outputs": [],
   "source": [
    "columns_to_keep = [\n",
    "    'GEOID10', 'CSA_Name', 'CBSA_Name', 'R_PCTLOWWAGE', 'E_PctLowWage',\n",
    "    'LowWage_Category_Home', 'LowWage_Category_Work', 'LowWage_Combined_home_work', 'LOCALE'\n",
    "]\n",
    "WA_CBG_outside_PCs_data_1 = WA_CBG_outside_PCs[columns_to_keep]\n",
    "\n",
    "WA_CBG_outside_PCs_data_1.to_excel(\"WA_CBG_outside_PCs_data_1.xlsx\", index=False)\n",
    "print(\"saved subsetted data to WA_CBG_outside_PCs_data_1.xlsx\")"
   ]
  },
  {
   "cell_type": "markdown",
   "id": "91f9de7a-2fb3-401e-ba19-c9a18adb314a",
   "metadata": {
    "jp-MarkdownHeadingCollapsed": true
   },
   "source": [
    "### WE NEED NOW TO MAKE SHAPEFILES WE CAN USE IN ARC GIS PRO\n",
    "for SLD data, geopackage is used since they can hold long column names unlike shapefiles"
   ]
  },
  {
   "cell_type": "code",
   "execution_count": null,
   "id": "378c9b35-c17b-4d35-9a7e-46d496aea97c",
   "metadata": {},
   "outputs": [],
   "source": [
    "save_geopackage(population_centers_study_area, os.path.join(save_path, \"POPULATION_CENTERS_WA_AREA\"), \"POPULATION_CENTERS_WA_AREA.shp\", driver=None) \n",
    "save_geopackage(WA_SLD_study_Outside, save_path, \"WA_CBG_NOT_INTERSECT_PCs.gpkg\", driver='GPKG') \n",
    "save_geopackage(WA_CBG_outside_PCs, save_path, \"WA_CBG_RIGHT_OUTSIDE_PCs.gpkg\", driver='GPKG') "
   ]
  },
  {
   "cell_type": "markdown",
   "id": "cf6cbf21-990d-4e17-b17d-d525b31fca82",
   "metadata": {},
   "source": [
    "### WE NEED TO MAKE A SHAPEFILE FOR THE POI DATA FOR WA WE CAN USE IN ARC GIS PRO\n",
    "\n",
    "#### How did Panick get this data? did the website give poi for the specific study area?"
   ]
  },
  {
   "cell_type": "code",
   "execution_count": null,
   "id": "920a012b-a1e0-4bf4-8118-3b9ab393638e",
   "metadata": {},
   "outputs": [],
   "source": [
    "# method1\n",
    "POI_gdf = gpd.read_file(POI_path)\n",
    "# this reads the geojson file and skips columns that have bad types (lists)\n",
    "# now we convert it into shapefile so that arcGisPro can read it\n",
    "save_geopackage(POI_gdf, os.path.join(save_path, \"poi_data\"), 'POI_WA_Study_Area.shp')\n",
    "\n",
    "\n",
    "#method 2  --- open geojson using Json to Features tool -- recommended\n",
    "# import arcpy\n",
    "# ans = arcpy.conversion.JSONToFeatures(\n",
    "#     in_json_file=r\"C:\\Users\\Soheil99\\OneDrive - UW\\0 Research\\UW Tacoma\\my copy - Satellite Communities Project\\Data\\POI Data\\WA_Study_Area.geojson\",\n",
    "#     out_features=r\"C:\\Users\\Soheil99\\OneDrive - UW\\0 Research\\UW Tacoma\\my copy - Satellite Communities Project\\Analysis\\RuralATGapFinder\\ArcGIS_test\\ArcGIS_test.gdb\\WA_Study_Area_JSONToFeatures\",\n",
    "#     geometry_type=\"POINT\"\n",
    "# )"
   ]
  },
  {
   "cell_type": "markdown",
   "id": "44ed6314-f550-4edf-96ff-03668293653f",
   "metadata": {},
   "source": [
    "# POI data"
   ]
  },
  {
   "cell_type": "markdown",
   "id": "bf81fafe-38c6-46cd-bec7-37971a8e5058",
   "metadata": {},
   "source": [
    "### AFTER GETTING THE SHAPEFILE OF POI WITHIN 300 FT OF _ **SR**_ FROM ARCGIS PRO, WE NEED TO FILTER THEM OUT HERE TO KEEP ONLY THOSE THAT COULD BE CONSIDERED AS PRIMARY POI\n"
   ]
  },
  {
   "cell_type": "code",
   "execution_count": null,
   "id": "97182663-bcec-4426-bad0-9101ccb084c8",
   "metadata": {
    "jupyter": {
     "source_hidden": true
    }
   },
   "outputs": [],
   "source": [
    "POI_Within_SR_Buffer_0 = gpd.read_file(POI_SR_path)"
   ]
  },
  {
   "cell_type": "code",
   "execution_count": null,
   "id": "9234ce1a-0574-47f9-a034-99dbcf9caace",
   "metadata": {},
   "outputs": [],
   "source": [
    "# Parse the JSON 'categories' Column ---\n",
    "# Create a function to safely parse the JSON string in each row\n",
    "def parse_categories(cat_str):\n",
    "    try:\n",
    "        return json.loads(cat_str)\n",
    "    except (json.JSONDecodeError, TypeError):\n",
    "        # Return a default structure if JSON is malformed or not a string\n",
    "        return {'primary': None, 'alternate': []}\n",
    "\n",
    "# Apply the function to create new columns\n",
    "POI_Within_SR_Buffer_1 = POI_Within_SR_Buffer_0.copy()\n",
    "POI_Within_SR_Buffer_1['categories_json'] = POI_Within_SR_Buffer_1['categories'].apply(parse_categories)\n",
    "POI_Within_SR_Buffer_1['primary_category'] = POI_Within_SR_Buffer_1['categories_json'].apply(lambda x: x.get('primary'))\n",
    "POI_Within_SR_Buffer_1['alternate_categories'] = POI_Within_SR_Buffer_1['categories_json'].apply(lambda x: x.get('alternate', []))\n",
    "\n",
    "POI_Within_SR_Buffer_1.head()"
   ]
  },
  {
   "cell_type": "code",
   "execution_count": null,
   "id": "8e55541a-48aa-465e-90e8-72af8f8ff425",
   "metadata": {},
   "outputs": [],
   "source": [
    "# If you want to explore the data using Excel, check the following.\n",
    "\n",
    "poi_export = POI_Within_SR_Buffer_1.drop(columns='geometry')\n",
    "# Convert the list of alternate categories to a comma-separated string\n",
    "poi_export['alternate_categories'] = poi_export['alternate_categories'].apply(lambda x: ', '.join(map(str, x)) if isinstance(x, list) else x)\n",
    "excel_path = \"POI_Within_SR_Buffer_1.xlsx\"\n",
    "poi_export.to_excel(excel_path, index=False)\n",
    "print(f\"Saved intermediate data for exploration to Excel at:\\n{excel_path}\")"
   ]
  },
  {
   "cell_type": "code",
   "execution_count": null,
   "id": "2f286ffc-55bc-41d7-a4b2-7d398d1a2f44",
   "metadata": {},
   "outputs": [],
   "source": [
    "unique_categories = POI_Within_SR_Buffer_1['primary_category'].unique()\n",
    "print(f\"\\nFound {len(unique_categories)} unique primary categories. 10 examples:{unique_categories[:10]}\")"
   ]
  },
  {
   "cell_type": "markdown",
   "id": "4f8cd608-abd4-44ad-9889-f416ac980b7c",
   "metadata": {},
   "source": [
    "#### Overture is organized around approximately 22 top-level categories. We need to use the primary categories to filter the data. There are 349 unique primary categories in our shapefile for 1616 POI"
   ]
  },
  {
   "cell_type": "code",
   "execution_count": null,
   "id": "a0ab6030-c367-41fe-a545-b1de35a725dd",
   "metadata": {},
   "outputs": [],
   "source": [
    "# Filter POIs Based on Primary Category ---\n",
    "\n",
    "# Define the regex pattern for categories of interest\n",
    "filter_pattern = r'store|hospital|church|restaurant|salon|food|retailer|shop|post_office|gas_station|park|bar|barber|school|market'\n",
    "# Use .str.contains() to filter the GeoDataFrame\n",
    "POI_Within_SR_Buffer_2 = POI_Within_SR_Buffer_1[\n",
    "    POI_Within_SR_Buffer_1['primary_category'].str.contains(\n",
    "        filter_pattern,\n",
    "        case=False,      # ignore_case = TRUE\n",
    "        na=False,        # Don't match on NaN values\n",
    "        regex=True\n",
    "    )\n",
    "].copy()\n",
    "\n",
    "print(f\"Filtered down to {len(POI_Within_SR_Buffer_2)} relevant POIs.\")"
   ]
  },
  {
   "cell_type": "code",
   "execution_count": null,
   "id": "7797e403-7571-4030-9275-4b4ebfaa6ed4",
   "metadata": {
    "scrolled": true
   },
   "outputs": [],
   "source": [
    "POI_Within_SR_Buffer_2.head()"
   ]
  },
  {
   "cell_type": "code",
   "execution_count": null,
   "id": "d7654c3b-9057-4ea9-8aef-cc21845f48f9",
   "metadata": {
    "scrolled": true
   },
   "outputs": [],
   "source": [
    "#Cleanup for Shapefile Export ---- Probably not needed at all\n",
    "# Shapefiles do not support list or dictionary columns, so we flatten them.\n",
    "POI_Within_SR_Buffer_3 = POI_Within_SR_Buffer_2.copy()\n",
    "\n",
    "# Flatten the 'categories_json' dictionary into a string\n",
    "POI_Within_SR_Buffer_3['categories_json'] = POI_Within_SR_Buffer_3['categories_json'].apply(\n",
    "    lambda x: json.dumps(x) # Re-serialize the dictionary to a clean JSON string\n",
    ")\n",
    "# Flatten the 'alternate_categories' list into a string\n",
    "POI_Within_SR_Buffer_3['alternate_categories'] = POI_Within_SR_Buffer_3['alternate_categories'].apply(\n",
    "    lambda x: ', '.join(map(str, x)) if isinstance(x, list) else ''\n",
    ")\n",
    "\n",
    "print(\"Final data head before writing to shapefile:\")\n",
    "print(f\"-- Has {len(POI_Within_SR_Buffer_3)} features.\")\n",
    "POI_Within_SR_Buffer_3.head()"
   ]
  },
  {
   "cell_type": "code",
   "execution_count": null,
   "id": "d31f4b0c-68f5-4df6-bb13-463f2220fd56",
   "metadata": {},
   "outputs": [],
   "source": [
    "save_geopackage(POI_Within_SR_Buffer_3, os.path.join(save_path, \"POI Within 300 ft SR _ Filtered\"), 'POI_Within_SR_Buffer_Filtered.gpkg', driver=\"GPKG\")\n",
    "# print(f\"\\nSuccessfully wrote filtered shapefile to:\\n{output_path}\")\n"
   ]
  },
  {
   "cell_type": "code",
   "execution_count": null,
   "id": "5379835d-5200-463c-8a73-cede5adf22f8",
   "metadata": {},
   "outputs": [],
   "source": []
  },
  {
   "cell_type": "markdown",
   "id": "4e51e374-7e8d-40f9-9075-b42e383d3e74",
   "metadata": {},
   "source": [
    "### AFTER GETTING THE SHAPEFILE OF POI WITHIN 300 FT OF _ **CR**_ FROM ARCGIS PRO, WE NEED TO FILTER THEM OUT HERE TO KEEP ONLY THOSE THAT COULD BE CONSIDERED AS PRIMARY POI\n"
   ]
  },
  {
   "cell_type": "code",
   "execution_count": null,
   "id": "a6cb5871-a669-42ef-8ffd-e9a2bcf669dd",
   "metadata": {
    "scrolled": true
   },
   "outputs": [],
   "source": [
    "POI_Within_CR_Buffer_0 = gpd.read_file(POI_CR_path)\n",
    "\n",
    "# Parse the JSON 'categories' Column \n",
    "# Apply the function to create new columns\n",
    "POI_Within_CR_Buffer_1 = POI_Within_CR_Buffer_0.copy()\n",
    "POI_Within_CR_Buffer_1['categories_json'] = POI_Within_CR_Buffer_1['categories'].apply(parse_categories)\n",
    "POI_Within_CR_Buffer_1['primary_category'] = POI_Within_CR_Buffer_1['categories_json'].apply(lambda x: x.get('primary'))\n",
    "POI_Within_CR_Buffer_1['alternate_categories'] = POI_Within_CR_Buffer_1['categories_json'].apply(lambda x: x.get('alternate', []))\n",
    "\n",
    "POI_Within_CR_Buffer_1.head()"
   ]
  },
  {
   "cell_type": "code",
   "execution_count": null,
   "id": "539535d1-5945-4f59-99c4-fde719ca154f",
   "metadata": {},
   "outputs": [],
   "source": [
    "# If you want to explore the data using Excel, check the following.\n",
    "\n",
    "poi_export = POI_Within_CR_Buffer_1.drop(columns='geometry')\n",
    "# Convert the list of alternate categories to a comma-separated string\n",
    "poi_export['alternate_categories'] = poi_export['alternate_categories'].apply(lambda x: ', '.join(map(str, x)) if isinstance(x, list) else x)\n",
    "excel_path = \"POI_Within_CR_Buffer_1.xlsx\"\n",
    "poi_export.to_excel(excel_path, index=False)\n",
    "print(f\"Saved intermediate data for exploration to Excel at:\\n{excel_path}\")"
   ]
  },
  {
   "cell_type": "code",
   "execution_count": null,
   "id": "da874623-9e7b-4fce-8f42-e055b762f939",
   "metadata": {},
   "outputs": [],
   "source": [
    "unique_categories = POI_Within_CR_Buffer_1['primary_category'].unique()\n",
    "print(f\"\\nFound {len(unique_categories)} unique primary categories. 10 examples:{unique_categories[:10]}\")"
   ]
  },
  {
   "cell_type": "markdown",
   "id": "ac4dc1fa-6f52-4b33-87c6-227e2cf5fc54",
   "metadata": {},
   "source": [
    "#### Overture is organized around approximately 22 top-level categories. We need to use the primary categories to filter the data. There are 349 unique primary categories in our shapefile for 1616 POI"
   ]
  },
  {
   "cell_type": "code",
   "execution_count": null,
   "id": "068bee16-fcbe-4ac3-8c50-da338eb3070a",
   "metadata": {},
   "outputs": [],
   "source": [
    "# Filter POIs Based on Primary Category ---\n",
    "\n",
    "# Define the regex pattern for categories of interest\n",
    "filter_pattern = r'store|hospital|church|restaurant|salon|food|retailer|shop|post_office|gas_station|park|bar|barber|school|market'\n",
    "# Use .str.contains() to filter the GeoDataFrame\n",
    "POI_Within_CR_Buffer_2 = POI_Within_CR_Buffer_1[\n",
    "    POI_Within_CR_Buffer_1['primary_category'].str.contains(\n",
    "        filter_pattern,\n",
    "        case=False,      # ignore_case = TRUE\n",
    "        na=False,        # Don't match on NaN values\n",
    "        regex=True\n",
    "    )\n",
    "].copy()\n",
    "\n",
    "print(f\"Filtered down to {len(POI_Within_CR_Buffer_2)} relevant POIs.\")"
   ]
  },
  {
   "cell_type": "code",
   "execution_count": null,
   "id": "fd5894f4-86e3-44a6-9ed2-2277d7809910",
   "metadata": {
    "scrolled": true
   },
   "outputs": [],
   "source": [
    "POI_Within_CR_Buffer_2.head()"
   ]
  },
  {
   "cell_type": "code",
   "execution_count": null,
   "id": "5f8f751f-d856-4638-96c9-2b00464b0ccb",
   "metadata": {
    "scrolled": true
   },
   "outputs": [],
   "source": [
    "#Cleanup for Shapefile Export ---- Probably not needed at all\n",
    "# Shapefiles do not support list or dictionary columns, so we flatten them.\n",
    "POI_Within_CR_Buffer_3 = POI_Within_CR_Buffer_2.copy()\n",
    "\n",
    "# Flatten the 'categories_json' dictionary into a string\n",
    "POI_Within_CR_Buffer_3['categories_json'] = POI_Within_CR_Buffer_3['categories_json'].apply(\n",
    "    lambda x: json.dumps(x) # Re-serialize the dictionary to a clean JSON string\n",
    ")\n",
    "# Flatten the 'alternate_categories' list into a string\n",
    "POI_Within_CR_Buffer_3['alternate_categories'] = POI_Within_CR_Buffer_3['alternate_categories'].apply(\n",
    "    lambda x: ', '.join(map(str, x)) if isinstance(x, list) else ''\n",
    ")\n",
    "\n",
    "print(\"Final data head before writing to shapefile:\")\n",
    "print(f\"-- Has {len(POI_Within_CR_Buffer_3)} features.\")\n",
    "POI_Within_CR_Buffer_3.head()"
   ]
  },
  {
   "cell_type": "code",
   "execution_count": null,
   "id": "25882c6d-c316-4a45-9f87-78828904344a",
   "metadata": {},
   "outputs": [],
   "source": [
    "save_geopackage(POI_Within_CR_Buffer_3, os.path.join(save_path, \"POI Within 300 ft CR _ Filtered\"), 'POI_Within_CR_Buffer_Filtered.gpkg', driver=\"GPKG\")\n",
    "# print(f\"\\nSuccessfully wrote filtered shapefile to:\\n{output_path}\")\n"
   ]
  },
  {
   "cell_type": "code",
   "execution_count": null,
   "id": "3d31a10b-1ff4-4f77-9e11-bb91c42429ce",
   "metadata": {},
   "outputs": [],
   "source": []
  }
 ],
 "metadata": {
  "kernelspec": {
   "display_name": "Python 3 (ipykernel)",
   "language": "python",
   "name": "python3"
  },
  "language_info": {
   "codemirror_mode": {
    "name": "ipython",
    "version": 3
   },
   "file_extension": ".py",
   "mimetype": "text/x-python",
   "name": "python",
   "nbconvert_exporter": "python",
   "pygments_lexer": "ipython3",
   "version": "3.11.11"
  }
 },
 "nbformat": 4,
 "nbformat_minor": 5
}
